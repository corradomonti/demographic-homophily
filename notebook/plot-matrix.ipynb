{
 "cells": [
  {
   "cell_type": "code",
   "execution_count": 1,
   "metadata": {},
   "outputs": [],
   "source": [
    "import matplotlib.pyplot as plt\n",
    "from matplotlib.lines import Line2D\n",
    "import numpy as np\n",
    "import pandas as pd\n",
    "import scipy.stats\n",
    "import seaborn as sns\n",
    "\n",
    "plt.style.use('seaborn-whitegrid')\n",
    "sns.set_context('paper')"
   ]
  },
  {
   "cell_type": "code",
   "execution_count": 2,
   "metadata": {},
   "outputs": [],
   "source": [
    "VARIABLES = [\n",
    "            'Young', 'Old', 'Male', 'Female', 'Poor', 'Rich', 'Left', 'Right', \n",
    "        ]\n",
    "N = len(VARIABLES)\n",
    "\n",
    "YEARS = range(2016, 2021)\n",
    "\n",
    "PAIRS = [\n",
    "     ('Young', 'Old'),\n",
    "     ('Male', 'Female'),\n",
    "     ('Poor', 'Rich'),\n",
    "     ('Left', 'Right'),\n",
    "]"
   ]
  },
  {
   "cell_type": "code",
   "execution_count": 3,
   "metadata": {},
   "outputs": [],
   "source": [
    "df = pd.read_csv(\"../data/results/sd-topics-model-regression-results.csv\")"
   ]
  },
  {
   "cell_type": "code",
   "execution_count": 4,
   "metadata": {},
   "outputs": [],
   "source": [
    "df['sign'] = df[['param','signif']].apply(lambda x: np.sign(x[0]) if x[1] else 0, axis=1)"
   ]
  },
  {
   "cell_type": "code",
   "execution_count": 5,
   "metadata": {},
   "outputs": [],
   "source": [
    "def get_num_signif_years(signs):\n",
    "    mode_value, mode_count = scipy.stats.mode(signs)\n",
    "    return mode_count[0] if mode_value != 0 else 0\n",
    "\n",
    "df_signif_all_years = (df\n",
    "    .groupby(['class_child', 'class_parent']).sign.agg(get_num_signif_years)\n",
    "    .reset_index()\n",
    "    .rename(columns={'sign': 'num_signif_years'})\n",
    ")\n",
    "df = pd.merge(df, df_signif_all_years)"
   ]
  },
  {
   "cell_type": "code",
   "execution_count": 6,
   "metadata": {},
   "outputs": [
    {
     "data": {
      "text/html": [
       "<div>\n",
       "<style scoped>\n",
       "    .dataframe tbody tr th:only-of-type {\n",
       "        vertical-align: middle;\n",
       "    }\n",
       "\n",
       "    .dataframe tbody tr th {\n",
       "        vertical-align: top;\n",
       "    }\n",
       "\n",
       "    .dataframe thead th {\n",
       "        text-align: right;\n",
       "    }\n",
       "</style>\n",
       "<table border=\"1\" class=\"dataframe\">\n",
       "  <thead>\n",
       "    <tr style=\"text-align: right;\">\n",
       "      <th>class_parent</th>\n",
       "      <th>Young</th>\n",
       "      <th>Old</th>\n",
       "      <th>Male</th>\n",
       "      <th>Female</th>\n",
       "      <th>Poor</th>\n",
       "      <th>Rich</th>\n",
       "      <th>Left</th>\n",
       "      <th>Right</th>\n",
       "    </tr>\n",
       "    <tr>\n",
       "      <th>class_child</th>\n",
       "      <th></th>\n",
       "      <th></th>\n",
       "      <th></th>\n",
       "      <th></th>\n",
       "      <th></th>\n",
       "      <th></th>\n",
       "      <th></th>\n",
       "      <th></th>\n",
       "    </tr>\n",
       "  </thead>\n",
       "  <tbody>\n",
       "    <tr>\n",
       "      <th>Young</th>\n",
       "      <td>0.084328</td>\n",
       "      <td>-0.104345</td>\n",
       "      <td>0.032417</td>\n",
       "      <td>0.015977</td>\n",
       "      <td>0.011073</td>\n",
       "      <td>0.022133</td>\n",
       "      <td>-0.003971</td>\n",
       "      <td>0.012344</td>\n",
       "    </tr>\n",
       "    <tr>\n",
       "      <th>Old</th>\n",
       "      <td>-0.102813</td>\n",
       "      <td>0.120371</td>\n",
       "      <td>-0.038233</td>\n",
       "      <td>-0.019730</td>\n",
       "      <td>0.011292</td>\n",
       "      <td>-0.034976</td>\n",
       "      <td>-0.001235</td>\n",
       "      <td>-0.026848</td>\n",
       "    </tr>\n",
       "    <tr>\n",
       "      <th>Male</th>\n",
       "      <td>0.014564</td>\n",
       "      <td>-0.051167</td>\n",
       "      <td>0.059997</td>\n",
       "      <td>-0.003349</td>\n",
       "      <td>-0.006081</td>\n",
       "      <td>0.011688</td>\n",
       "      <td>-0.005550</td>\n",
       "      <td>0.000943</td>\n",
       "    </tr>\n",
       "    <tr>\n",
       "      <th>Female</th>\n",
       "      <td>-0.018725</td>\n",
       "      <td>0.008710</td>\n",
       "      <td>-0.023986</td>\n",
       "      <td>0.026280</td>\n",
       "      <td>-0.010159</td>\n",
       "      <td>0.014237</td>\n",
       "      <td>-0.002791</td>\n",
       "      <td>-0.017712</td>\n",
       "    </tr>\n",
       "    <tr>\n",
       "      <th>Poor</th>\n",
       "      <td>0.010850</td>\n",
       "      <td>-0.003234</td>\n",
       "      <td>0.000547</td>\n",
       "      <td>0.005969</td>\n",
       "      <td>0.049300</td>\n",
       "      <td>-0.032864</td>\n",
       "      <td>-0.000537</td>\n",
       "      <td>-0.002195</td>\n",
       "    </tr>\n",
       "    <tr>\n",
       "      <th>Rich</th>\n",
       "      <td>0.023980</td>\n",
       "      <td>0.006583</td>\n",
       "      <td>-0.003442</td>\n",
       "      <td>0.004089</td>\n",
       "      <td>-0.030150</td>\n",
       "      <td>0.017619</td>\n",
       "      <td>-0.001507</td>\n",
       "      <td>-0.019886</td>\n",
       "    </tr>\n",
       "    <tr>\n",
       "      <th>Left</th>\n",
       "      <td>0.020994</td>\n",
       "      <td>-0.025315</td>\n",
       "      <td>0.002941</td>\n",
       "      <td>-0.025145</td>\n",
       "      <td>0.009080</td>\n",
       "      <td>0.006647</td>\n",
       "      <td>-0.039594</td>\n",
       "      <td>0.101567</td>\n",
       "    </tr>\n",
       "    <tr>\n",
       "      <th>Right</th>\n",
       "      <td>0.005584</td>\n",
       "      <td>-0.015275</td>\n",
       "      <td>-0.019940</td>\n",
       "      <td>0.000971</td>\n",
       "      <td>0.002165</td>\n",
       "      <td>-0.001888</td>\n",
       "      <td>0.062644</td>\n",
       "      <td>-0.026069</td>\n",
       "    </tr>\n",
       "  </tbody>\n",
       "</table>\n",
       "</div>"
      ],
      "text/plain": [
       "class_parent     Young       Old      Male    Female      Poor      Rich  \\\n",
       "class_child                                                                \n",
       "Young         0.084328 -0.104345  0.032417  0.015977  0.011073  0.022133   \n",
       "Old          -0.102813  0.120371 -0.038233 -0.019730  0.011292 -0.034976   \n",
       "Male          0.014564 -0.051167  0.059997 -0.003349 -0.006081  0.011688   \n",
       "Female       -0.018725  0.008710 -0.023986  0.026280 -0.010159  0.014237   \n",
       "Poor          0.010850 -0.003234  0.000547  0.005969  0.049300 -0.032864   \n",
       "Rich          0.023980  0.006583 -0.003442  0.004089 -0.030150  0.017619   \n",
       "Left          0.020994 -0.025315  0.002941 -0.025145  0.009080  0.006647   \n",
       "Right         0.005584 -0.015275 -0.019940  0.000971  0.002165 -0.001888   \n",
       "\n",
       "class_parent      Left     Right  \n",
       "class_child                       \n",
       "Young        -0.003971  0.012344  \n",
       "Old          -0.001235 -0.026848  \n",
       "Male         -0.005550  0.000943  \n",
       "Female       -0.002791 -0.017712  \n",
       "Poor         -0.000537 -0.002195  \n",
       "Rich         -0.001507 -0.019886  \n",
       "Left         -0.039594  0.101567  \n",
       "Right         0.062644 -0.026069  "
      ]
     },
     "execution_count": 6,
     "metadata": {},
     "output_type": "execute_result"
    }
   ],
   "source": [
    "field2table = {field: (\n",
    "        df[df.year == 2016]\n",
    "            .pivot(index='class_child', columns='class_parent', values=field)\n",
    "            .loc[VARIABLES].reindex(columns=VARIABLES)\n",
    "    ) for field in ('param', 'num_signif_years', 'signif')}\n",
    "field2table['param']"
   ]
  },
  {
   "cell_type": "code",
   "execution_count": 7,
   "metadata": {},
   "outputs": [
    {
     "name": "stderr",
     "output_type": "stream",
     "text": [
      "/var/folders/4m/1n2z0ggs7rv5wk949nx3kgmw0000gp/T/ipykernel_24695/4150961733.py:9: MatplotlibDeprecationWarning: Auto-removal of grids by pcolor() and pcolormesh() is deprecated since 3.5 and will be removed two minor releases later; please call grid(False) first.\n",
      "  plt.colorbar()\n"
     ]
    },
    {
     "data": {
      "image/png": "[encoded data removed]",
      "text/plain": [
       "<Figure size 360x360 with 2 Axes>"
      ]
     },
     "metadata": {},
     "output_type": "display_data"
    }
   ],
   "source": [
    "matrix = field2table['param'].values.copy()\n",
    "matrix[field2table['num_signif_years'].values < 4] = np.nan\n",
    "plt.figure(figsize=(5, 5))\n",
    "plt.matshow(matrix, cmap='bwr', vmin=-0.15, vmax=0.15, fignum=1)\n",
    "plt.xticks(np.arange(N), VARIABLES, rotation = 45,\n",
    "           ha=\"left\", va='bottom', rotation_mode=\"anchor\", fontsize=12)\n",
    "plt.yticks(np.arange(N), VARIABLES, fontsize=12)\n",
    "plt.grid()\n",
    "plt.colorbar()\n",
    "plt.savefig('../paper/fig/matrix.pdf', bbox_inches='tight')"
   ]
  },
  {
   "cell_type": "code",
   "execution_count": null,
   "metadata": {},
   "outputs": [],
   "source": []
  }
 ],
 "metadata": {
  "kernelspec": {
   "display_name": "tesi-jacopo",
   "language": "python",
   "name": "tesi-jacopo"
  },
  "language_info": {
   "codemirror_mode": {
    "name": "ipython",
    "version": 3
   },
   "file_extension": ".py",
   "mimetype": "text/x-python",
   "name": "python",
   "nbconvert_exporter": "python",
   "pygments_lexer": "ipython3",
   "version": "3.10.4"
  }
 },
 "nbformat": 4,
 "nbformat_minor": 5
}
